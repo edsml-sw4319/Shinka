{
 "cells": [
  {
   "cell_type": "code",
   "execution_count": 1,
   "id": "8e1390a3",
   "metadata": {
    "scrolled": false
   },
   "outputs": [],
   "source": [
    "from landsatxplore.api import API\n",
    "from glob import glob\n",
    "import os, sys"
   ]
  },
  {
   "cell_type": "code",
   "execution_count": 2,
   "id": "61443657",
   "metadata": {},
   "outputs": [],
   "source": [
    "# Initialize a new API instance and get an access key\n",
    "api = API(\"pinnacle55\", \"KM89xq6rSRZ6zJP\")"
   ]
  },
  {
   "cell_type": "code",
   "execution_count": 13,
   "id": "b3d66eb8",
   "metadata": {},
   "outputs": [],
   "source": [
    "# list of years to search\n",
    "years = range(2023, 2024)\n",
    "\n",
    "scene_dict = {}\n",
    "\n",
    "for year in years:\n",
    "\n",
    "    # Search for Landsat TM scenes\n",
    "    scenes = api.search(\n",
    "        dataset='landsat_ot_c2_l2',\n",
    "        latitude=32.754418985494425,\n",
    "        longitude=129.8764305203059,\n",
    "        start_date=f'{year}-05-01', # rainy season ends in Jan, this should be mostly cloudless\n",
    "        end_date=f'{year+1}-06-01',\n",
    "        max_cloud_cover=5\n",
    "    )\n",
    "    \n",
    "    # sort scenes by amount of cloud cover\n",
    "    scenes = sorted(scenes, key = lambda x: x[\"cloud_cover\"])\n",
    "    \n",
    "    # store scenes in dictionary\n",
    "    scene_dict[str(year)] = scenes"
   ]
  },
  {
   "cell_type": "code",
   "execution_count": 15,
   "id": "69a0b00c",
   "metadata": {},
   "outputs": [
    {
     "data": {
      "text/plain": [
       "2"
      ]
     },
     "execution_count": 15,
     "metadata": {},
     "output_type": "execute_result"
    }
   ],
   "source": [
    "len(scene_dict['2023'])"
   ]
  },
  {
   "cell_type": "code",
   "execution_count": 15,
   "id": "bcaf6bb6",
   "metadata": {},
   "outputs": [
    {
     "name": "stdout",
     "output_type": "stream",
     "text": [
      "2013 2\n",
      "2014 7\n",
      "2015 6\n",
      "2016 8\n",
      "2017 6\n",
      "2018 5\n",
      "2019 6\n",
      "2020 4\n",
      "2021 5\n",
      "2022 6\n"
     ]
    }
   ],
   "source": [
    "# check how many scenes per year\n",
    "# to avoid over downloading (each scene is ~1GB, set limit to 5 scenes per year)\n",
    "for key in scene_dict:\n",
    "    print(key, len(scene_dict[key]))"
   ]
  },
  {
   "cell_type": "code",
   "execution_count": 16,
   "id": "9bc0193a",
   "metadata": {},
   "outputs": [
    {
     "name": "stdout",
     "output_type": "stream",
     "text": [
      "Downloading scenes in 2023.\n",
      "Attempting to download LC09_L2SP_113037_20230510_20230512_02_T1\n",
      "Download failed with dataset id 1 of 3. Re-trying with the next one.\n",
      "Download failed with dataset id 2 of 3. Re-trying with the next one.\n"
     ]
    },
    {
     "name": "stderr",
     "output_type": "stream",
     "text": [
      "100%|███████████████████████████████████████████████████████████████████████████████| 772M/772M [05:49<00:00, 2.32MB/s]\n"
     ]
    },
    {
     "name": "stdout",
     "output_type": "stream",
     "text": [
      "LC09_L2SP_113037_20230510_20230512_02_T1 downloaded successfully!\n",
      "Attempting to download LC08_L2SP_113037_20230603_20230607_02_T1\n",
      "Download failed with dataset id 1 of 3. Re-trying with the next one.\n",
      "Download failed with dataset id 2 of 3. Re-trying with the next one.\n"
     ]
    },
    {
     "name": "stderr",
     "output_type": "stream",
     "text": [
      "100%|███████████████████████████████████████████████████████████████████████████████| 821M/821M [05:51<00:00, 2.45MB/s]\n"
     ]
    },
    {
     "name": "stdout",
     "output_type": "stream",
     "text": [
      "LC08_L2SP_113037_20230603_20230607_02_T1 downloaded successfully!\n"
     ]
    }
   ],
   "source": [
    "from landsatxplore.earthexplorer import EarthExplorer\n",
    "\n",
    "# Sign in to earthexplorer\n",
    "ee = EarthExplorer(\"pinnacle55\", \"KM89xq6rSRZ6zJP\")\n",
    "\n",
    "for key in scene_dict:\n",
    "    \n",
    "    print(f\"Downloading scenes in {key}.\")\n",
    "\n",
    "    scene_count = 0\n",
    "    \n",
    "    for scene in scene_dict[key]:     \n",
    "        \n",
    "        # Limit downloads to 5 scenes\n",
    "        # Scenes are sorted from lowest to highest cloud_cover, so limiting the scenes should be alright\n",
    "        if scene_count >= 5:\n",
    "            break\n",
    "        \n",
    "        print(f\"Attempting to download {scene['display_id']}\")\n",
    "        \n",
    "        \n",
    "        # note that the appears to be an issue where the program will claim that the download failed but \n",
    "        # it actually succeeded - despite this the program will throw an error and the script will not\n",
    "        # continue. As a workaround use a try except block to continue the loop despite the error being \n",
    "        # thrown.\n",
    "        try:\n",
    "            ee.download(scene['display_id'], output_dir = os.getcwd())\n",
    "        except:\n",
    "            print(f\"{scene['display_id']} may have failed to download! Check to be sure.\")\n",
    "            continue\n",
    "        \n",
    "        # if the file was downloaded successfully, add to scene_count\n",
    "        \n",
    "        if os.path.exists(f\"{scene['display_id']}.tar\"):\n",
    "            print(f\"{scene['display_id']} downloaded successfully!\")\n",
    "            scene_count += 1\n",
    "\n",
    "ee.logout()"
   ]
  },
  {
   "cell_type": "code",
   "execution_count": 16,
   "id": "3b639c35",
   "metadata": {},
   "outputs": [],
   "source": [
    "### Code to set up a bunch of folders in for data download\n",
    "# base_dir = \"./data_collated\"\n",
    "\n",
    "# years = range(2013, 2023)\n",
    "\n",
    "# for year in years:\n",
    "#     year_folder = os.path.join(base_dir, str(year))\n",
    "#     if not os.path.exists(year_folder):\n",
    "#         os.mkdir(year_folder)"
   ]
  },
  {
   "cell_type": "code",
   "execution_count": 8,
   "id": "b28339e3",
   "metadata": {},
   "outputs": [
    {
     "name": "stdout",
     "output_type": "stream",
     "text": [
      "LC08_L2SP_125059_20210703_20210712_02_T1\n",
      "LC08_L2SP_125059_20210601_20210608_02_T1\n",
      "LC08_L2SP_125059_20210313_20210318_02_T1\n"
     ]
    }
   ],
   "source": [
    "existing_scenes = os.listdir(\"./data\")\n",
    "\n",
    "scenes_to_dl = []\n",
    "\n",
    "for scene in scenes:\n",
    "    # be wary - for some reason, landsat_product_id gives the L1TP products\n",
    "    # but display_id gives the L2SP products\n",
    "    # choose the product you want carefully\n",
    "    product_id = scene['display_id']\n",
    "    if product_id not in existing_scenes:\n",
    "        scenes_to_dl.append(product_id)"
   ]
  },
  {
   "cell_type": "code",
   "execution_count": 3,
   "id": "5e27ab6d",
   "metadata": {},
   "outputs": [
    {
     "data": {
      "text/plain": [
       "4"
      ]
     },
     "execution_count": 3,
     "metadata": {},
     "output_type": "execute_result"
    }
   ],
   "source": [
    "from landsatxplore.earthexplorer import EarthExplorer\n",
    "\n",
    "# Sign in to earthexplorer\n",
    "ee = EarthExplorer(\"pinnacle55\", \"KM89xq6rSRZ6zJP\")\n",
    "\n",
    "for scene in scenes_to_dl:\n",
    "    # note that the appears to be an issue where the program will claim that the download failed but \n",
    "    # it actually succeeded - despite this the program will throw an error and the script will not\n",
    "    # continue. As a workaround use a try except block to continue the loop despite the error being \n",
    "    # thrown.\n",
    "\n",
    "    try:\n",
    "        ee.download(scene, output_dir='./data_cloud_imputing')\n",
    "    except:\n",
    "        print(f\"{scene} may have failed to download! Check to be sure.\")\n",
    "        continue\n",
    "\n",
    "ee.logout()"
   ]
  },
  {
   "cell_type": "code",
   "execution_count": 1,
   "id": "59e5b62e",
   "metadata": {},
   "outputs": [
    {
     "name": "stdout",
     "output_type": "stream",
     "text": [
      "Download failed with dataset id 1 of 3. Re-trying with the next one.\n",
      "Download failed with dataset id 2 of 3. Re-trying with the next one.\n"
     ]
    },
    {
     "name": "stderr",
     "output_type": "stream",
     "text": [
      "100%|███████████████████████████████████████████████████████████████████████████████| 809M/809M [04:29<00:00, 3.14MB/s]\n"
     ]
    },
    {
     "name": "stdout",
     "output_type": "stream",
     "text": [
      "Download failed with dataset id 1 of 3. Re-trying with the next one.\n"
     ]
    },
    {
     "name": "stderr",
     "output_type": "stream",
     "text": [
      "810MB [01:58, 7.14MB/s]                                                                                                \n"
     ]
    },
    {
     "name": "stdout",
     "output_type": "stream",
     "text": [
      "None of the archived ids succeeded! Update necessary!\n",
      "LC08_L2SP_125059_20220519_20220525_02_T1 may have failed to download! Check to be sure.\n",
      "Download failed with dataset id 1 of 3. Re-trying with the next one.\n"
     ]
    },
    {
     "name": "stderr",
     "output_type": "stream",
     "text": [
      "787MB [01:55, 7.14MB/s]                                                                                                \n"
     ]
    },
    {
     "name": "stdout",
     "output_type": "stream",
     "text": [
      "None of the archived ids succeeded! Update necessary!\n",
      "LC08_L2SP_125059_20220417_20220420_02_T1 may have failed to download! Check to be sure.\n",
      "Download failed with dataset id 1 of 3. Re-trying with the next one.\n"
     ]
    },
    {
     "name": "stderr",
     "output_type": "stream",
     "text": [
      "100%|███████████████████████████████████████████████████████████████████████████████| 830M/830M [02:08<00:00, 6.76MB/s]\n"
     ]
    },
    {
     "name": "stdout",
     "output_type": "stream",
     "text": [
      "None of the archived ids succeeded! Update necessary!\n",
      "LC09_L2SP_125059_20220324_20230424_02_T1 may have failed to download! Check to be sure.\n"
     ]
    }
   ],
   "source": [
    "### older attempt using a combination of command line and pythonic env ###\n",
    "# prior to executing this code I ran the following in the command line colon \n",
    "# landsatxplore search --dataset landsat_ot_c2_l2 --location 1.3521 103.8198 --start 2013-01-01 --end 2023-01-01 --clouds 20 > results.csv\n",
    "# this allows me to find all scenes involving Singapore that have a cloud coverage of 20% or less;\n",
    "# these results are then saved into a CSV file\n",
    "# I then manually selected all scenes from the same month in order to remove all seasonal biases\n",
    "\n",
    "from landsatxplore.earthexplorer import EarthExplorer\n",
    "\n",
    "# Sign in to earthexplorer\n",
    "ee = EarthExplorer(\"username\", \"password\")\n",
    "\n",
    "# Read the aforementioned csv and get the scene IDs\n",
    "with open(\"results.csv\") as f:\n",
    "    lines = [line.rstrip('\\n') for line in f]\n",
    "f.close()\n",
    "\n",
    "for scene in lines:\n",
    "    # note that the appears to be an issue where the program will claim that the download failed but \n",
    "    # it actually succeeded - despite this the program will throw an error and the script will not\n",
    "    # continue. As a workaround use a try except block to continue the loop despite the error being \n",
    "    # thrown.\n",
    "\n",
    "    try:\n",
    "        ee.download(scene, output_dir='./data_cloud_imputing')\n",
    "    except:\n",
    "        print(f\"{scene} may have failed to download! Check to be sure.\")\n",
    "        continue\n",
    "\n",
    "ee.logout()"
   ]
  },
  {
   "cell_type": "code",
   "execution_count": 5,
   "id": "08ae9a7a",
   "metadata": {},
   "outputs": [
    {
     "name": "stdout",
     "output_type": "stream",
     "text": [
      "Download failed with dataset id 1 of 3. Re-trying with the next one.\n",
      "None of the archived ids succeeded! Update necessary!\n",
      "LC08_L2SP_125059_20220401_20220406_02_T1 failed to download!\n",
      "Download failed with dataset id 1 of 3. Re-trying with the next one.\n"
     ]
    },
    {
     "name": "stderr",
     "output_type": "stream",
     "text": [
      "773MB [03:01, 4.46MB/s]                                                                                                \n"
     ]
    },
    {
     "name": "stdout",
     "output_type": "stream",
     "text": [
      "None of the archived ids succeeded! Update necessary!\n",
      "LC08_L2SP_125059_20210617_20210622_02_T1 failed to download!\n",
      "Download failed with dataset id 1 of 3. Re-trying with the next one.\n"
     ]
    },
    {
     "name": "stderr",
     "output_type": "stream",
     "text": [
      "100%|███████████████████████████████████████████████████████████████████████████████| 748M/748M [02:48<00:00, 4.64MB/s]\n"
     ]
    },
    {
     "name": "stdout",
     "output_type": "stream",
     "text": [
      "None of the archived ids succeeded! Update necessary!\n",
      "LC08_L2SP_125059_20200716_20200911_02_T1 failed to download!\n",
      "Download failed with dataset id 1 of 3. Re-trying with the next one.\n"
     ]
    },
    {
     "name": "stderr",
     "output_type": "stream",
     "text": [
      "804MB [02:56, 4.79MB/s]                                                                                                \n"
     ]
    },
    {
     "name": "stdout",
     "output_type": "stream",
     "text": [
      "None of the archived ids succeeded! Update necessary!\n",
      "LC08_L2SP_125059_20190527_20200828_02_T1 failed to download!\n",
      "Download failed with dataset id 1 of 3. Re-trying with the next one.\n"
     ]
    },
    {
     "name": "stderr",
     "output_type": "stream",
     "text": [
      "100%|███████████████████████████████████████████████████████████████████████████████| 762M/762M [02:50<00:00, 4.69MB/s]\n"
     ]
    },
    {
     "name": "stdout",
     "output_type": "stream",
     "text": [
      "None of the archived ids succeeded! Update necessary!\n",
      "LC08_L2SP_125059_20180508_20200901_02_T1 failed to download!\n",
      "Download failed with dataset id 1 of 3. Re-trying with the next one.\n"
     ]
    },
    {
     "name": "stderr",
     "output_type": "stream",
     "text": [
      "796MB [02:57, 4.70MB/s]                                                                                                \n"
     ]
    },
    {
     "name": "stdout",
     "output_type": "stream",
     "text": [
      "None of the archived ids succeeded! Update necessary!\n",
      "LC08_L2SP_125059_20170724_20200903_02_T1 failed to download!\n",
      "Download failed with dataset id 1 of 3. Re-trying with the next one.\n"
     ]
    },
    {
     "name": "stderr",
     "output_type": "stream",
     "text": [
      " 98%|█████████████████████████████████████████████████████████████████████████████  | 773M/793M [03:32<00:05, 3.81MB/s]\n"
     ]
    },
    {
     "name": "stdout",
     "output_type": "stream",
     "text": [
      "LC08_L2SP_125059_20160502_20200907_02_T1 failed to download!\n",
      "LC08_L2SP_125059_20150414_20200909_02_T1 failed to download!\n",
      "Download failed with dataset id 1 of 3. Re-trying with the next one.\n"
     ]
    },
    {
     "name": "stderr",
     "output_type": "stream",
     "text": [
      "100%|███████████████████████████████████████████████████████████████████████████████| 743M/743M [03:01<00:00, 4.28MB/s]\n"
     ]
    },
    {
     "name": "stdout",
     "output_type": "stream",
     "text": [
      "None of the archived ids succeeded! Update necessary!\n",
      "LC08_L2SP_125059_20140513_20200911_02_T1 failed to download!\n",
      "Download failed with dataset id 1 of 3. Re-trying with the next one.\n"
     ]
    },
    {
     "name": "stderr",
     "output_type": "stream",
     "text": [
      "100%|███████████████████████████████████████████████████████████████████████████████| 671M/671M [02:51<00:00, 4.11MB/s]\n"
     ]
    },
    {
     "name": "stdout",
     "output_type": "stream",
     "text": [
      "None of the archived ids succeeded! Update necessary!\n",
      "LC08_L2SP_125059_20130627_20200912_02_T1 failed to download!\n"
     ]
    }
   ],
   "source": [
    "for scene in lines:\n",
    "    # note that the appears to be an issue where the program will claim that the download failed but \n",
    "    # it actually succeeded - despite this the program will throw an error and the script will not\n",
    "    # continue. As a workaround use a try except block to continue the loop despite the error being \n",
    "    # thrown.\n",
    "\n",
    "    try:\n",
    "        ee.download(scene, output_dir='./data')\n",
    "    except:\n",
    "        print(f\"{scene} failed to download!\")\n",
    "        continue\n",
    "\n",
    "ee.logout()"
   ]
  },
  {
   "cell_type": "code",
   "execution_count": null,
   "id": "63f02766",
   "metadata": {},
   "outputs": [],
   "source": []
  }
 ],
 "metadata": {
  "kernelspec": {
   "display_name": "Python [conda env:landsat]",
   "language": "python",
   "name": "conda-env-landsat-py"
  },
  "language_info": {
   "codemirror_mode": {
    "name": "ipython",
    "version": 3
   },
   "file_extension": ".py",
   "mimetype": "text/x-python",
   "name": "python",
   "nbconvert_exporter": "python",
   "pygments_lexer": "ipython3",
   "version": "3.11.5"
  },
  "varInspector": {
   "cols": {
    "lenName": 16,
    "lenType": 16,
    "lenVar": 40
   },
   "kernels_config": {
    "python": {
     "delete_cmd_postfix": "",
     "delete_cmd_prefix": "del ",
     "library": "var_list.py",
     "varRefreshCmd": "print(var_dic_list())"
    },
    "r": {
     "delete_cmd_postfix": ") ",
     "delete_cmd_prefix": "rm(",
     "library": "var_list.r",
     "varRefreshCmd": "cat(var_dic_list()) "
    }
   },
   "types_to_exclude": [
    "module",
    "function",
    "builtin_function_or_method",
    "instance",
    "_Feature"
   ],
   "window_display": false
  }
 },
 "nbformat": 4,
 "nbformat_minor": 5
}
