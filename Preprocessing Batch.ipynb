{
 "cells": [
  {
   "cell_type": "code",
   "execution_count": 10,
   "id": "e76016e4",
   "metadata": {
    "ExecuteTime": {
     "end_time": "2024-01-11T15:52:16.286195100Z",
     "start_time": "2024-01-11T15:52:16.270985600Z"
    }
   },
   "outputs": [],
   "source": [
    "import rasterio as rio\n",
    "import earthpy.spatial as es\n",
    "import os, sys\n",
    "from glob import glob\n",
    "import numpy as np\n",
    "from rasterio.plot import show\n",
    "import matplotlib.pyplot as plt\n",
    "import rasterio\n",
    "import geopandas as gpd\n",
    "from shapely.geometry import box\n",
    "from rasterio.enums import Resampling\n",
    "from rasterio.warp import reproject\n"
   ]
  },
  {
   "cell_type": "code",
   "execution_count": 11,
   "outputs": [
    {
     "name": "stdout",
     "output_type": "stream",
     "text": [
      "['Raster_data\\\\LC08_L1TP_113037_20230502_20230509_02_T1', 'Raster_data\\\\LC08_L2SP_113037_20130927_20200912_02_T1', 'Raster_data\\\\LC08_L2SP_113037_20140423_20200911_02_T1', 'Raster_data\\\\LC08_L2SP_113037_20151104_20200908_02_T1', 'Raster_data\\\\LC08_L2SP_113037_20160530_20200906_02_T1', 'Raster_data\\\\LC08_L2SP_113037_20170618_20200903_02_T1']\n"
     ]
    }
   ],
   "source": [
    "# Find all sub folders 1 level down from parent_dir\n",
    "parent_dir = 'Raster_data'\n",
    "sub_dirs = [x[0] for x in os.walk(parent_dir)]\n",
    "sub_dirs = sub_dirs[1:]\n",
    "sub_dirs = [x for x in sub_dirs if os.path.basename(os.path.dirname(x)) == parent_dir]\n",
    "sub_dirs = [x for x in sub_dirs if \"LC08\" in os.path.basename(x)]\n",
    "# del sub_dirs[0]\n",
    "print(sub_dirs)"
   ],
   "metadata": {
    "collapsed": false,
    "ExecuteTime": {
     "end_time": "2024-01-11T15:52:16.305535200Z",
     "start_time": "2024-01-11T15:52:16.290051200Z"
    }
   },
   "id": "9a780bc30edb47b3"
  },
  {
   "cell_type": "code",
   "execution_count": 12,
   "outputs": [
    {
     "name": "stdout",
     "output_type": "stream",
     "text": [
      "['Raster_data\\\\LC08_L1TP_113037_20230502_20230509_02_T1\\\\LC08_L1TP_113037_20230502_20230509_02_T1_B1.TIF', 'Raster_data\\\\LC08_L1TP_113037_20230502_20230509_02_T1\\\\LC08_L1TP_113037_20230502_20230509_02_T1_B2.TIF', 'Raster_data\\\\LC08_L1TP_113037_20230502_20230509_02_T1\\\\LC08_L1TP_113037_20230502_20230509_02_T1_B3.TIF', 'Raster_data\\\\LC08_L1TP_113037_20230502_20230509_02_T1\\\\LC08_L1TP_113037_20230502_20230509_02_T1_B4.TIF', 'Raster_data\\\\LC08_L1TP_113037_20230502_20230509_02_T1\\\\LC08_L1TP_113037_20230502_20230509_02_T1_B5.TIF', 'Raster_data\\\\LC08_L1TP_113037_20230502_20230509_02_T1\\\\LC08_L1TP_113037_20230502_20230509_02_T1_B6.TIF', 'Raster_data\\\\LC08_L1TP_113037_20230502_20230509_02_T1\\\\LC08_L1TP_113037_20230502_20230509_02_T1_B7.TIF', 'Raster_data\\\\LC08_L1TP_113037_20230502_20230509_02_T1\\\\LC08_L1TP_113037_20230502_20230509_02_T1_B9.TIF', 'Raster_data\\\\LC08_L1TP_113037_20230502_20230509_02_T1\\\\LC08_L1TP_113037_20230502_20230509_02_T1_B10.TIF', 'Raster_data\\\\LC08_L1TP_113037_20230502_20230509_02_T1\\\\LC08_L1TP_113037_20230502_20230509_02_T1_B11.TIF']\n",
      "['Raster_data\\\\LC08_L2SP_113037_20130927_20200912_02_T1\\\\LC08_L2SP_113037_20130927_20200912_02_T1_SR_B1.TIF', 'Raster_data\\\\LC08_L2SP_113037_20130927_20200912_02_T1\\\\LC08_L2SP_113037_20130927_20200912_02_T1_SR_B2.TIF', 'Raster_data\\\\LC08_L2SP_113037_20130927_20200912_02_T1\\\\LC08_L2SP_113037_20130927_20200912_02_T1_SR_B3.TIF', 'Raster_data\\\\LC08_L2SP_113037_20130927_20200912_02_T1\\\\LC08_L2SP_113037_20130927_20200912_02_T1_SR_B4.TIF', 'Raster_data\\\\LC08_L2SP_113037_20130927_20200912_02_T1\\\\LC08_L2SP_113037_20130927_20200912_02_T1_SR_B5.TIF', 'Raster_data\\\\LC08_L2SP_113037_20130927_20200912_02_T1\\\\LC08_L2SP_113037_20130927_20200912_02_T1_SR_B6.TIF', 'Raster_data\\\\LC08_L2SP_113037_20130927_20200912_02_T1\\\\LC08_L2SP_113037_20130927_20200912_02_T1_SR_B7.TIF', 'Raster_data\\\\LC08_L2SP_113037_20130927_20200912_02_T1\\\\LC08_L2SP_113037_20130927_20200912_02_T1_ST_B10.TIF']\n",
      "['Raster_data\\\\LC08_L2SP_113037_20140423_20200911_02_T1\\\\LC08_L2SP_113037_20140423_20200911_02_T1_SR_B1.TIF', 'Raster_data\\\\LC08_L2SP_113037_20140423_20200911_02_T1\\\\LC08_L2SP_113037_20140423_20200911_02_T1_SR_B2.TIF', 'Raster_data\\\\LC08_L2SP_113037_20140423_20200911_02_T1\\\\LC08_L2SP_113037_20140423_20200911_02_T1_SR_B3.TIF', 'Raster_data\\\\LC08_L2SP_113037_20140423_20200911_02_T1\\\\LC08_L2SP_113037_20140423_20200911_02_T1_SR_B4.TIF', 'Raster_data\\\\LC08_L2SP_113037_20140423_20200911_02_T1\\\\LC08_L2SP_113037_20140423_20200911_02_T1_SR_B5.TIF', 'Raster_data\\\\LC08_L2SP_113037_20140423_20200911_02_T1\\\\LC08_L2SP_113037_20140423_20200911_02_T1_SR_B6.TIF', 'Raster_data\\\\LC08_L2SP_113037_20140423_20200911_02_T1\\\\LC08_L2SP_113037_20140423_20200911_02_T1_SR_B7.TIF', 'Raster_data\\\\LC08_L2SP_113037_20140423_20200911_02_T1\\\\LC08_L2SP_113037_20140423_20200911_02_T1_ST_B10.TIF']\n",
      "['Raster_data\\\\LC08_L2SP_113037_20151104_20200908_02_T1\\\\LC08_L2SP_113037_20151104_20200908_02_T1_SR_B1.TIF', 'Raster_data\\\\LC08_L2SP_113037_20151104_20200908_02_T1\\\\LC08_L2SP_113037_20151104_20200908_02_T1_SR_B2.TIF', 'Raster_data\\\\LC08_L2SP_113037_20151104_20200908_02_T1\\\\LC08_L2SP_113037_20151104_20200908_02_T1_SR_B3.TIF', 'Raster_data\\\\LC08_L2SP_113037_20151104_20200908_02_T1\\\\LC08_L2SP_113037_20151104_20200908_02_T1_SR_B4.TIF', 'Raster_data\\\\LC08_L2SP_113037_20151104_20200908_02_T1\\\\LC08_L2SP_113037_20151104_20200908_02_T1_SR_B5.TIF', 'Raster_data\\\\LC08_L2SP_113037_20151104_20200908_02_T1\\\\LC08_L2SP_113037_20151104_20200908_02_T1_SR_B6.TIF', 'Raster_data\\\\LC08_L2SP_113037_20151104_20200908_02_T1\\\\LC08_L2SP_113037_20151104_20200908_02_T1_SR_B7.TIF', 'Raster_data\\\\LC08_L2SP_113037_20151104_20200908_02_T1\\\\LC08_L2SP_113037_20151104_20200908_02_T1_ST_B10.TIF']\n",
      "['Raster_data\\\\LC08_L2SP_113037_20160530_20200906_02_T1\\\\LC08_L2SP_113037_20160530_20200906_02_T1_SR_B1.TIF', 'Raster_data\\\\LC08_L2SP_113037_20160530_20200906_02_T1\\\\LC08_L2SP_113037_20160530_20200906_02_T1_SR_B2.TIF', 'Raster_data\\\\LC08_L2SP_113037_20160530_20200906_02_T1\\\\LC08_L2SP_113037_20160530_20200906_02_T1_SR_B3.TIF', 'Raster_data\\\\LC08_L2SP_113037_20160530_20200906_02_T1\\\\LC08_L2SP_113037_20160530_20200906_02_T1_SR_B4.TIF', 'Raster_data\\\\LC08_L2SP_113037_20160530_20200906_02_T1\\\\LC08_L2SP_113037_20160530_20200906_02_T1_SR_B5.TIF', 'Raster_data\\\\LC08_L2SP_113037_20160530_20200906_02_T1\\\\LC08_L2SP_113037_20160530_20200906_02_T1_SR_B6.TIF', 'Raster_data\\\\LC08_L2SP_113037_20160530_20200906_02_T1\\\\LC08_L2SP_113037_20160530_20200906_02_T1_SR_B7.TIF', 'Raster_data\\\\LC08_L2SP_113037_20160530_20200906_02_T1\\\\LC08_L2SP_113037_20160530_20200906_02_T1_ST_B10.TIF']\n",
      "['Raster_data\\\\LC08_L2SP_113037_20170618_20200903_02_T1\\\\LC08_L2SP_113037_20170618_20200903_02_T1_SR_B1.TIF', 'Raster_data\\\\LC08_L2SP_113037_20170618_20200903_02_T1\\\\LC08_L2SP_113037_20170618_20200903_02_T1_SR_B2.TIF', 'Raster_data\\\\LC08_L2SP_113037_20170618_20200903_02_T1\\\\LC08_L2SP_113037_20170618_20200903_02_T1_SR_B3.TIF', 'Raster_data\\\\LC08_L2SP_113037_20170618_20200903_02_T1\\\\LC08_L2SP_113037_20170618_20200903_02_T1_SR_B4.TIF', 'Raster_data\\\\LC08_L2SP_113037_20170618_20200903_02_T1\\\\LC08_L2SP_113037_20170618_20200903_02_T1_SR_B5.TIF', 'Raster_data\\\\LC08_L2SP_113037_20170618_20200903_02_T1\\\\LC08_L2SP_113037_20170618_20200903_02_T1_SR_B6.TIF', 'Raster_data\\\\LC08_L2SP_113037_20170618_20200903_02_T1\\\\LC08_L2SP_113037_20170618_20200903_02_T1_SR_B7.TIF', 'Raster_data\\\\LC08_L2SP_113037_20170618_20200903_02_T1\\\\LC08_L2SP_113037_20170618_20200903_02_T1_ST_B10.TIF']\n"
     ]
    }
   ],
   "source": [
    "import re\n",
    "\n",
    "for sub_dir in sub_dirs:\n",
    "    regex = 'B([0-7]|9|10|11)\\.TIF$'\n",
    "    band_paths = []\n",
    "    all_paths = glob(os.path.join(sub_dir, '*'))\n",
    "    for file in os.listdir(sub_dir):\n",
    "        if re.search(regex, file):\n",
    "            band_paths.append(os.path.join(sub_dir, file))\n",
    "    \n",
    "    # Define a custom sorting function\n",
    "    def sort_by_band_number(file_path):\n",
    "        # Extract the numeric part from the file name (assuming it's a single-digit or double-digit number)\n",
    "        band_number = int(''.join(filter(str.isdigit, os.path.basename(file_path))))\n",
    "        return band_number\n",
    "    \n",
    "    # Sort the file paths using the custom sorting function\n",
    "    band_paths.sort(key=sort_by_band_number)\n",
    "    \n",
    "    print(band_paths)\n",
    "    qa_path = glob(\n",
    "        os.path.join(\n",
    "            sub_dir,\n",
    "            \"*QA_PIXEL.TIF\"\n",
    "        )\n",
    "    )\n",
    "    paths_to_crop = band_paths + qa_path\n",
    "    \n",
    "    stack, metadata = es.stack(band_paths, out_path = sub_dir + '/Nagasaki_STACKED.tif')\n",
    "    \n",
    "    stack_mask = stack == 0\n",
    "    stack_masked = np.ma.masked_array(stack, mask = stack_mask)\n",
    "    \n",
    "    with rio.open(sub_dir + '/Nagasaki_STACKED.tif') as src:\n",
    "        bounds = src.bounds\n",
    "        profile = src.profile\n",
    "        src.close()\n",
    "        \n",
    "    target_shapefile = box(549000, 3599000, 635000, 3669000)\n",
    "    \n",
    "    band_paths = es.crop_all(\n",
    "        paths_to_crop, sub_dir, [target_shapefile], overwrite=True\n",
    "    )\n",
    "    \n",
    "    stack, metadata = es.stack(band_paths[:-1], out_path = sub_dir + '/Nagasaki_CROPPED_STACKED.tif')\n",
    "    "
   ],
   "metadata": {
    "collapsed": false,
    "ExecuteTime": {
     "end_time": "2024-01-11T15:53:36.386978Z",
     "start_time": "2024-01-11T15:52:16.311514800Z"
    }
   },
   "id": "6749c0915cae2b7e"
  }
 ],
 "metadata": {
  "kernelspec": {
   "name": "python3",
   "language": "python",
   "display_name": "Python 3 (ipykernel)"
  },
  "language_info": {
   "codemirror_mode": {
    "name": "ipython",
    "version": 3
   },
   "file_extension": ".py",
   "mimetype": "text/x-python",
   "name": "python",
   "nbconvert_exporter": "python",
   "pygments_lexer": "ipython3",
   "version": "3.11.5"
  }
 },
 "nbformat": 4,
 "nbformat_minor": 5
}
