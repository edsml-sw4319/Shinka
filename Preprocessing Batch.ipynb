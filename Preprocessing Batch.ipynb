{
 "cells": [
  {
   "cell_type": "code",
   "execution_count": 1,
   "id": "e76016e4",
   "metadata": {
    "ExecuteTime": {
     "end_time": "2024-01-11T14:42:25.254522800Z",
     "start_time": "2024-01-11T14:42:23.797048Z"
    }
   },
   "outputs": [],
   "source": [
    "import rasterio as rio\n",
    "import earthpy.spatial as es\n",
    "import os, sys\n",
    "from glob import glob\n",
    "import numpy as np\n",
    "from rasterio.plot import show\n",
    "import matplotlib.pyplot as plt\n",
    "import rasterio\n",
    "import geopandas as gpd\n",
    "from shapely.geometry import box\n",
    "from rasterio.enums import Resampling\n",
    "from rasterio.warp import reproject\n"
   ]
  },
  {
   "cell_type": "code",
   "execution_count": 2,
   "outputs": [
    {
     "name": "stdout",
     "output_type": "stream",
     "text": [
      "['Raster_data\\\\LC08_L1TP_113037_20230502_20230509_02_T1']\n"
     ]
    }
   ],
   "source": [
    "# Find all sub folders 1 level down from parent_dir\n",
    "parent_dir = 'Raster_data'\n",
    "sub_dirs = [x[0] for x in os.walk(parent_dir)]\n",
    "sub_dirs = sub_dirs[1:]\n",
    "sub_dirs = [x for x in sub_dirs if os.path.basename(os.path.dirname(x)) == parent_dir]\n",
    "sub_dirs = [x for x in sub_dirs if \"LC08\" in os.path.basename(x)]\n",
    "# del sub_dirs[0]\n",
    "print(sub_dirs)"
   ],
   "metadata": {
    "collapsed": false,
    "ExecuteTime": {
     "end_time": "2024-01-11T14:42:25.272011300Z",
     "start_time": "2024-01-11T14:42:25.257517800Z"
    }
   },
   "id": "9a780bc30edb47b3"
  },
  {
   "cell_type": "code",
   "execution_count": 3,
   "outputs": [
    {
     "name": "stdout",
     "output_type": "stream",
     "text": [
      "['Raster_data\\\\LC08_L1TP_113037_20230502_20230509_02_T1\\\\LC08_L1TP_113037_20230502_20230509_02_T1_B1.TIF', 'Raster_data\\\\LC08_L1TP_113037_20230502_20230509_02_T1\\\\LC08_L1TP_113037_20230502_20230509_02_T1_B10.TIF', 'Raster_data\\\\LC08_L1TP_113037_20230502_20230509_02_T1\\\\LC08_L1TP_113037_20230502_20230509_02_T1_B11.TIF', 'Raster_data\\\\LC08_L1TP_113037_20230502_20230509_02_T1\\\\LC08_L1TP_113037_20230502_20230509_02_T1_B2.TIF', 'Raster_data\\\\LC08_L1TP_113037_20230502_20230509_02_T1\\\\LC08_L1TP_113037_20230502_20230509_02_T1_B3.TIF', 'Raster_data\\\\LC08_L1TP_113037_20230502_20230509_02_T1\\\\LC08_L1TP_113037_20230502_20230509_02_T1_B4.TIF', 'Raster_data\\\\LC08_L1TP_113037_20230502_20230509_02_T1\\\\LC08_L1TP_113037_20230502_20230509_02_T1_B5.TIF', 'Raster_data\\\\LC08_L1TP_113037_20230502_20230509_02_T1\\\\LC08_L1TP_113037_20230502_20230509_02_T1_B6.TIF', 'Raster_data\\\\LC08_L1TP_113037_20230502_20230509_02_T1\\\\LC08_L1TP_113037_20230502_20230509_02_T1_B7.TIF', 'Raster_data\\\\LC08_L1TP_113037_20230502_20230509_02_T1\\\\LC08_L1TP_113037_20230502_20230509_02_T1_B9.TIF']\n"
     ]
    }
   ],
   "source": [
    "import re\n",
    "\n",
    "for sub_dir in sub_dirs:\n",
    "    regex = 'B([0-7]|9|10|11)\\.TIF$'\n",
    "    band_paths = []\n",
    "    all_paths = glob(os.path.join(sub_dir, '*'))\n",
    "    for file in os.listdir(sub_dir):\n",
    "        if re.search(regex, file):\n",
    "            band_paths.append(os.path.join(sub_dir, file))\n",
    "    \n",
    "    print(band_paths)\n",
    "    qa_path = glob(\n",
    "        os.path.join(\n",
    "            sub_dir,\n",
    "            \"*QA_PIXEL.TIF\"\n",
    "        )\n",
    "    )\n",
    "    paths_to_crop = band_paths + qa_path\n",
    "    \n",
    "    stack, metadata = es.stack(band_paths, out_path = sub_dir + '/Nagasaki_STACKED.tif')\n",
    "    \n",
    "    stack_mask = stack == 0\n",
    "    stack_masked = np.ma.masked_array(stack, mask = stack_mask)\n",
    "    \n",
    "    with rio.open(sub_dir + '/Nagasaki_STACKED.tif') as src:\n",
    "        bounds = src.bounds\n",
    "        profile = src.profile\n",
    "        src.close()\n",
    "        \n",
    "    target_shapefile = box(549000, 3599000, 635000, 3669000)\n",
    "    \n",
    "    band_paths = es.crop_all(\n",
    "        paths_to_crop, sub_dir, [target_shapefile], overwrite=True\n",
    "    )\n",
    "    \n",
    "    stack, metadata = es.stack(band_paths[:-1], out_path = sub_dir + '/Nagasaki_CROPPED_STACKED.tif')\n",
    "    "
   ],
   "metadata": {
    "collapsed": false,
    "ExecuteTime": {
     "end_time": "2024-01-11T14:42:40.904980400Z",
     "start_time": "2024-01-11T14:42:25.274010Z"
    }
   },
   "id": "6749c0915cae2b7e"
  }
 ],
 "metadata": {
  "kernelspec": {
   "name": "python3",
   "language": "python",
   "display_name": "Python 3 (ipykernel)"
  },
  "language_info": {
   "codemirror_mode": {
    "name": "ipython",
    "version": 3
   },
   "file_extension": ".py",
   "mimetype": "text/x-python",
   "name": "python",
   "nbconvert_exporter": "python",
   "pygments_lexer": "ipython3",
   "version": "3.11.5"
  }
 },
 "nbformat": 4,
 "nbformat_minor": 5
}
